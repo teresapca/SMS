{
 "cells": [
  {
   "cell_type": "markdown",
   "metadata": {},
   "source": [
    "# Dining philosophers problem\n",
    "\n",
    "Five silent philosophers sit at a round table with bowls of spaghetti. Forks are placed between each pair of adjacent philosophers.\n",
    "\n",
    "![](https://upload.wikimedia.org/wikipedia/commons/thumb/7/7b/An_illustration_of_the_dining_philosophers_problem.png/463px-An_illustration_of_the_dining_philosophers_problem.png)\n",
    "\n",
    "Each philosopher must alternately think and eat. However, a philosopher can only eat spaghetti when they have both left and right forks. Each fork can be held by only one philosopher and so a philosopher can use the fork only if it is not being used by another philosopher. After an individual philosopher finishes eating, they need to put down both forks so that the forks become available to others. A philosopher can take the fork on their right or the one on their left as they become available, but cannot start eating before getting both forks.\n",
    "\n",
    "Eating is not limited by the remaining amounts of spaghetti or stomach space; an infinite supply and an infinite demand are assumed.\n",
    "\n",
    "The problem is how to design a discipline of behavior (a concurrent algorithm) such that no philosopher will starve; i.e., each can forever continue to alternate between eating and thinking, assuming that no philosopher can know when others may want to eat or think.\n",
    "\n",
    "## Compute the transition matrix\n",
    "\n",
    "Each philospher acts according to the following graph of states:\n",
    "<img src=\"./dining_philosophers.png\" alt=\"Drawing\" style=\"width: 70%;\"/>\n",
    "\n",
    "We now want to know, given a set of states like $s = (s_{phil1}, s_{phil2}, s_{phil3}) = (0, 1, 2)$ $\\dots$"
   ]
  },
  {
   "cell_type": "code",
   "execution_count": 20,
   "metadata": {},
   "outputs": [],
   "source": [
    "from pprint import pprint\n",
    "import itertools as itt\n",
    "import numpy as np\n",
    "\n",
    "# Fix constants at the top, so we always know where to go to edit things.\n",
    "h, e = 0.05, 0.75\n",
    "\n",
    "num_phil = 3\n",
    "num_states = 10"
   ]
  },
  {
   "cell_type": "code",
   "execution_count": 21,
   "metadata": {},
   "outputs": [],
   "source": [
    "def compute_successor(qi, qi_prev, qi_foll, h, e):\n",
    "    \"\"\"This function returns the state and probability of a philosopher after an iteration,\n",
    "    according to the status of its neighbors.\n",
    "    \"\"\"\n",
    "    \n",
    "    def has_lf(q):\n",
    "        return q in (4, 6, 8, 9)\n",
    "    def has_rf(q):\n",
    "        return q in (5, 7, 8, 9)\n",
    "    def needs_lf(q):\n",
    "        return q in (2, 5)\n",
    "    def needs_rf(q):\n",
    "        return q in (3, 4)\n",
    "    \n",
    "    if qi == 0:\n",
    "        return [([0], 1-h), ([1], h)]\n",
    "    if qi == 1:\n",
    "        return [([2], 0.5), ([3], 0.5)]\n",
    "    if qi == 2:\n",
    "        if has_rf(qi_prev):\n",
    "            return [([2], 1)]\n",
    "        if not has_rf(qi_prev) and not needs_rf(qi_prev):\n",
    "            return [([4], 1)]\n",
    "        if not has_rf(qi_prev) and needs_rf(qi_prev):\n",
    "            return [([2], 1)]\n",
    "    if qi == 3:\n",
    "        if has_lf(qi_foll):\n",
    "            return [([3], 1)]\n",
    "        return [([5], 1)]\n",
    "    if qi == 4:\n",
    "        if has_lf(qi_foll):\n",
    "            return [([6], 1)]\n",
    "        return [([8], 1)]\n",
    "    if qi == 5:\n",
    "        if has_rf(qi_prev):\n",
    "            return [([7], 1)]\n",
    "        return [([8], 1)]\n",
    "    if qi in (6,7):\n",
    "        return [([1], 1)]\n",
    "    \n",
    "    if qi == 8:\n",
    "        return [([9], 1)]\n",
    "\n",
    "    if qi == 9:\n",
    "        return [([9], e), ([0], 1-e)]"
   ]
  },
  {
   "cell_type": "code",
   "execution_count": 4,
   "metadata": {},
   "outputs": [
    {
     "data": {
      "text/plain": [
       "[([2], 0.5), ([3], 0.5)]"
      ]
     },
     "execution_count": 4,
     "metadata": {},
     "output_type": "execute_result"
    }
   ],
   "source": [
    "compute_successor(1, 2, 3, 0.05, 0.75)"
   ]
  },
  {
   "cell_type": "code",
   "execution_count": 5,
   "metadata": {},
   "outputs": [
    {
     "data": {
      "text/plain": [
       "[([9], 1)]"
      ]
     },
     "execution_count": 5,
     "metadata": {},
     "output_type": "execute_result"
    }
   ],
   "source": [
    "compute_successor(8, 8, 8, 0.05, 0.75)"
   ]
  },
  {
   "cell_type": "code",
   "execution_count": 6,
   "metadata": {
    "scrolled": true
   },
   "outputs": [
    {
     "name": "stdout",
     "output_type": "stream",
     "text": [
      "Perform some simple tests:\n",
      "\n",
      "empty list\n",
      "[([3], 0.1), ([4], 0.2)]\n",
      "\n",
      "2 elements single-state list\n",
      "[([0, 3], 0.020000000000000004),\n",
      " ([1, 3], 0.03),\n",
      " ([0, 4], 0.04000000000000001),\n",
      " ([1, 4], 0.06)]\n",
      "\n",
      "2 elements double-state list\n",
      "[([0, 0, 3], 0.020000000000000004),\n",
      " ([0, 1, 3], 0.03),\n",
      " ([0, 0, 4], 0.04000000000000001),\n",
      " ([0, 1, 4], 0.06)]\n"
     ]
    }
   ],
   "source": [
    "def cartesian_prod(list_to_be_extended, list_to_add):\n",
    "    \"\"\"This function computes the cartesian product between two lists made like:\n",
    "    \n",
    "    list_to_be_extended = [([a, b], 0.13), ([a, c], 0.24), ([b, c], 0.45)]\n",
    "    list_to_add = [([x], 0.12), ([y], 0.35)]\n",
    "    \n",
    "    where {a, b, c, x, y} are possible states, coming from the graph previously\n",
    "    presented, and the associated number in the pair is the probability of the\n",
    "    philosopher to follow/act according to those states.\n",
    "    \n",
    "    Please note that `list_to_be_extended` could be an empty list at the beginning\n",
    "    of the iteration process and, in that case, the `list_to_add` list has to be\n",
    "    returned.\n",
    "    \"\"\"\n",
    "    \n",
    "    if not list_to_be_extended:\n",
    "        return list_to_add\n",
    "    \n",
    "    list_with_products_to_return = []\n",
    "    \n",
    "    for single_state_to_add, prob_single_state in list_to_add:\n",
    "        for list_of_states, prob_sequence_states in list_to_be_extended:\n",
    "            list_with_products_to_return.append((list_of_states + single_state_to_add,\n",
    "                                                prob_single_state * prob_sequence_states))\n",
    "\n",
    "    return list_with_products_to_return\n",
    "\n",
    "    \n",
    "print(\"Perform some simple tests:\\n\")\n",
    "\n",
    "test_empty_list = []\n",
    "test_to_add_list = [([3], 0.1), ([4], 0.2)]\n",
    "print(\"empty list\")\n",
    "pprint(cartesian_prod(test_empty_list, test_to_add_list))\n",
    "\n",
    "test_midlen_list = [([0], 0.2), ([1], 0.3)]\n",
    "print(\"\\n2 elements single-state list\")\n",
    "pprint(cartesian_prod(test_midlen_list, test_to_add_list))\n",
    "\n",
    "test_long_list = [([0, 0], 0.2), ([0, 1], 0.3)]\n",
    "print(\"\\n2 elements double-state list\")\n",
    "pprint(cartesian_prod(test_long_list, test_to_add_list))"
   ]
  },
  {
   "cell_type": "code",
   "execution_count": 12,
   "metadata": {},
   "outputs": [],
   "source": [
    "def compute_sequence_states(input_state, num_phil):\n",
    "    \"\"\"Given a sequence of states and the number of philosophers, return the successors.\n",
    "    \n",
    "    The intermediate states (e.g. input [0, 0, 0], intermediate [0, 0] or [1, 0]) are\n",
    "    not returned.\n",
    "    \"\"\"\n",
    "    _intermediate_states = []\n",
    "    states_to_return = []\n",
    "    \n",
    "    for ind, _ in enumerate(input_state):\n",
    "        single_successor_state = compute_successor(input_state[ind], input_state[ind-1], input_state[(ind+1)%len(input_state)], h, e)\n",
    "        successor_states = cartesian_prod(_intermediate_states, single_successor_state)\n",
    "\n",
    "        for states, prob in successor_states:\n",
    "            if len(states) == num_phil:\n",
    "                states_to_return.append((states, prob))\n",
    "            else:\n",
    "                _intermediate_states.append((states, prob))\n",
    "            \n",
    "    return states_to_return"
   ]
  },
  {
   "cell_type": "code",
   "execution_count": 13,
   "metadata": {
    "scrolled": false
   },
   "outputs": [
    {
     "name": "stdout",
     "output_type": "stream",
     "text": [
      "[([0, 0], 0.9025),\n",
      " ([1, 0], 0.0475),\n",
      " ([0, 1], 0.0475),\n",
      " ([1, 1], 0.0025000000000000005)]\n"
     ]
    }
   ],
   "source": [
    "input_state = [0] * num_phil\n",
    "\n",
    "state_list = compute_sequence_states(input_state, num_phil)\n",
    "pprint(state_list)"
   ]
  },
  {
   "cell_type": "markdown",
   "metadata": {},
   "source": [
    "## Naive implementation\n",
    "\n",
    "Compute the transition matrix for all the states, even for those not reachable (e.g. $philosopher_i$ eating && $philosopher_{i+1}$ eating, ..) and then remove those states not reachable.\n",
    "\n",
    "A similar implementation could compute the reachable states and then calculate the probabilities for each reachable state."
   ]
  },
  {
   "cell_type": "markdown",
   "metadata": {},
   "source": [
    "## Smart implementation\n",
    "\n",
    "We chose to start from a known reachable state, which happens when all philosophers are thinking, so when all of them are on state $0$: $[0_{ph.1}, 0_{ph.2}, \\dots, 0_{ph.N}]$.\n",
    "\n",
    "From this known \"safe\" state, we calculate the reachable states in a single step, which, for a 2-philosophers problem, are $\\{[0, 0], \\; [0, 1], \\; [1, 0], \\; [1, 1]\\}$, along with their probabilities.\n",
    "\n",
    "Then we insert those states directly into the transition matrix along with their probabilities, and call recursively the same function on the just discovered states.\n",
    "\n",
    "With this approach, there's no need to calculate impossible or un-reachable states."
   ]
  },
  {
   "cell_type": "code",
   "execution_count": 9,
   "metadata": {},
   "outputs": [
    {
     "name": "stdout",
     "output_type": "stream",
     "text": [
      "True\n",
      "True\n"
     ]
    }
   ],
   "source": [
    "\"\"\"\n",
    "We need functions to convert from a state (e.g. '[1, 2, 3]') to an index (e.g. '456'),\n",
    "because cells of the transition matrix can be accessed only with indices.\n",
    "\n",
    "The following two functions should be invertible, which means converting from a state\n",
    "to an index to a state should produce the same original state.\n",
    "\"\"\"\n",
    "\n",
    "def state_to_index(state):\n",
    "    return sum((single_state * num_states**(num_phil-1-index) for index, single_state in enumerate(state)))\n",
    "\n",
    "\"\"\"\n",
    "The previous generator-comprehension (similar to a list-comprehension, but faster and\n",
    "more powerful, since it's lazily evaluated https://en.wikipedia.org/wiki/Python_syntax_and_semantics#Generators )\n",
    "is practically identical to the following lines:\n",
    "\"\"\"\n",
    "#     tot = 0\n",
    "#     for index, singol_state in enumerate(state):\n",
    "#         tot += singol_state * num_states**(num_phil-1-index) \n",
    "#     return tot\n",
    "\n",
    "\n",
    "def index_to_state(index):\n",
    "    \"\"\"Converts an index into a sequence of states, which may not be 10-based integers.\n",
    "    \n",
    "    Extracts elements starting from the highest power; then move to extract from the\n",
    "    remainder of the division until all the digits have been processed.\n",
    "    \"\"\"\n",
    "    \n",
    "    # Here we cannot use a *-comprehension, since we also need to modify the `index' value.\n",
    "    # Or maybe we could do it, but sometimes \"Beautiful is better than ugly\" and\n",
    "    # \"Flat is better than nested\" (from: https://en.wikipedia.org/wiki/Zen_of_Python )\n",
    "    sequence = []\n",
    "    for power in range(num_phil):\n",
    "        sequence.append(index // num_states**(num_phil-1-power))\n",
    "        index %= num_states**(num_phil-1-power)\n",
    "    return sequence\n",
    "\n",
    "print(state_to_index(index_to_state(123)) == 123)\n",
    "print(state_to_index(index_to_state(state_to_index(index_to_state(123)) + 1)) == 123+1)"
   ]
  },
  {
   "cell_type": "code",
   "execution_count": 14,
   "metadata": {},
   "outputs": [],
   "source": [
    "def explore_and_build_transition_matrix(states_matrix, start_state):\n",
    "    \"\"\"Given the transition matrix and a state as input, calculate the successor\n",
    "    of the states, place them into the matrix and call recursively this function\n",
    "    only when the pair (actual_state, successor_state) has not been previously\n",
    "    entered into the matrix.\n",
    "    \"\"\"\n",
    "    index_start_state = state_to_index(start_state)\n",
    "\n",
    "    sequence_following_states = compute_sequence_states(start_state, num_phil)\n",
    "    \n",
    "    for state, prob_associated in sequence_following_states:\n",
    "\n",
    "        # This check works since our initial matrix is made of zeros; if we would\n",
    "        # use a sparse matrix, as in the following implementation, this check could\n",
    "        # be different. We use it to make sure that we don't loop when searching for\n",
    "        # successors of states.\n",
    "        if states_matrix[index_start_state, state_to_index(state)] == 0:\n",
    "            states_matrix[index_start_state, state_to_index(state)] = prob_associated\n",
    "            \n",
    "            explore_and_build_transition_matrix(states_matrix, state)"
   ]
  },
  {
   "cell_type": "code",
   "execution_count": 15,
   "metadata": {},
   "outputs": [],
   "source": [
    "initial_safe_combination = [0] * num_phil"
   ]
  },
  {
   "cell_type": "code",
   "execution_count": 16,
   "metadata": {},
   "outputs": [],
   "source": [
    "transition_matrix = np.zeros([num_states**num_phil, num_states**num_phil])\n",
    "\n",
    "explore_and_build_transition_matrix(transition_matrix, initial_safe_combination)"
   ]
  },
  {
   "cell_type": "code",
   "execution_count": 18,
   "metadata": {
    "scrolled": true
   },
   "outputs": [
    {
     "data": {
      "text/plain": [
       "array([1., 1., 1., 1., 1., 1., 0., 0., 1., 1., 1., 1., 1., 1., 1., 1., 0.,\n",
       "       0., 1., 1., 1., 1., 1., 1., 1., 1., 0., 0., 1., 1., 1., 1., 1., 1.,\n",
       "       1., 1., 0., 0., 1., 1., 1., 1., 1., 1., 1., 0., 0., 0., 0., 0., 1.,\n",
       "       1., 1., 1., 0., 1., 0., 0., 1., 0., 0., 0., 0., 0., 0., 0., 1., 0.,\n",
       "       0., 0., 0., 0., 0., 0., 0., 0., 0., 1., 0., 1., 1., 1., 1., 1., 0.,\n",
       "       1., 0., 0., 0., 0., 1., 1., 1., 1., 0., 0., 0., 1., 0., 0.])"
      ]
     },
     "execution_count": 18,
     "metadata": {},
     "output_type": "execute_result"
    }
   ],
   "source": [
    "# The sum of probabilities on the rows must be either 1 (given any state, we must go\n",
    "# to some other states in a single iteration) or 0, if the state is not admissible\n",
    "# in our system (such as \"all philosophers are eating at the same time\").\n",
    "np.sum(transition_matrix, axis=1)"
   ]
  },
  {
   "cell_type": "markdown",
   "metadata": {},
   "source": [
    "## Smarter implementation (with sparse matrix)\n",
    "\n",
    "Notice how many bytes are needed to store our transition matrix:"
   ]
  },
  {
   "cell_type": "code",
   "execution_count": 114,
   "metadata": {},
   "outputs": [
    {
     "data": {
      "text/plain": [
       "80000"
      ]
     },
     "execution_count": 114,
     "metadata": {},
     "output_type": "execute_result"
    }
   ],
   "source": [
    "transition_matrix.nbytes"
   ]
  },
  {
   "cell_type": "code",
   "execution_count": 19,
   "metadata": {},
   "outputs": [
    {
     "name": "stdout",
     "output_type": "stream",
     "text": [
      "On a (100, 100) matrix, there are only 106 non-zero elements, which is 0.0106 % of the total.\n"
     ]
    }
   ],
   "source": [
    "print(\"On a\", transition_matrix.shape, \"matrix, there are only\", np.count_nonzero(transition_matrix),\n",
    "      \"non-zero elements, which is\", np.count_nonzero(transition_matrix)/np.prod(transition_matrix.shape),\n",
    "      \"% of the total.\")"
   ]
  },
  {
   "cell_type": "markdown",
   "metadata": {},
   "source": [
    "We could greatly reduce the size of the transition matrix and increase the performance of our system by using a transition matrix made of a sparse matrix, which means storing only the elements different than 0."
   ]
  }
 ],
 "metadata": {
  "kernelspec": {
   "display_name": "Python 3",
   "language": "python",
   "name": "python3"
  },
  "language_info": {
   "codemirror_mode": {
    "name": "ipython",
    "version": 3
   },
   "file_extension": ".py",
   "mimetype": "text/x-python",
   "name": "python",
   "nbconvert_exporter": "python",
   "pygments_lexer": "ipython3",
   "version": "3.6.2"
  }
 },
 "nbformat": 4,
 "nbformat_minor": 2
}
