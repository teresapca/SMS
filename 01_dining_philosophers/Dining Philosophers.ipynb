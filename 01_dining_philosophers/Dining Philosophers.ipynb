{
 "cells": [
  {
   "cell_type": "markdown",
   "metadata": {},
   "source": [
    "# Dining philosophers problem\n",
    "\n",
    "Five silent philosophers sit at a round table with bowls of spaghetti. Forks are placed between each pair of adjacent philosophers.\n",
    "\n",
    "![](https://upload.wikimedia.org/wikipedia/commons/thumb/7/7b/An_illustration_of_the_dining_philosophers_problem.png/463px-An_illustration_of_the_dining_philosophers_problem.png)\n",
    "\n",
    "Each philosopher must alternately think and eat. However, a philosopher can only eat spaghetti when they have both left and right forks. Each fork can be held by only one philosopher and so a philosopher can use the fork only if it is not being used by another philosopher. After an individual philosopher finishes eating, they need to put down both forks so that the forks become available to others. A philosopher can take the fork on their right or the one on their left as they become available, but cannot start eating before getting both forks.\n",
    "\n",
    "Eating is not limited by the remaining amounts of spaghetti or stomach space; an infinite supply and an infinite demand are assumed.\n",
    "\n",
    "The problem is how to design a discipline of behavior (a concurrent algorithm) such that no philosopher will starve; i.e., each can forever continue to alternate between eating and thinking, assuming that no philosopher can know when others may want to eat or think.\n",
    "\n",
    "## Compute the transition matrix\n",
    "\n",
    "Each philospher acts according to the following graph of states:\n",
    "<img src=\"./dining_philosophers.png\" alt=\"Drawing\" style=\"width: 70%;\"/>\n",
    "\n",
    "We now want to know, given a set of states like $s = (s_{phil1}, s_{phil2}, s_{phil3}) = (0, 1, 2)$ $\\dots$"
   ]
  },
  {
   "cell_type": "code",
   "execution_count": 69,
   "metadata": {},
   "outputs": [],
   "source": [
    "from pprint import pprint\n",
    "\n",
    "# Fix probability constants at the top, so we always know where to go to edit things.\n",
    "h, e = 0.05, 0.75"
   ]
  },
  {
   "cell_type": "code",
   "execution_count": 70,
   "metadata": {},
   "outputs": [],
   "source": [
    "def compute_successor(qi, qi_prev, qi_foll, h, e):\n",
    "    def has_lf(q):\n",
    "        return q in (4, 6, 8, 9)\n",
    "    def has_rf(q):\n",
    "        return q in (5, 7, 8, 9)\n",
    "    def needs_lf(q):\n",
    "        return q in (2, 5)\n",
    "    def needs_rf(q):\n",
    "        return q in (3, 4)\n",
    "    \n",
    "    if qi == 0:\n",
    "        return [([0], 1-h), ([1], h)]\n",
    "    if qi == 1:\n",
    "        return [([2], 0.5), ([3], 0.5)]\n",
    "    if qi == 2:\n",
    "        if has_rf(qi_prev):\n",
    "            return [([2], 1)]\n",
    "        if not has_rf(qi_prev) and not needs_rf(qi_prev):\n",
    "            return [([4], 1)]\n",
    "        if not has_rf(qi_prev) and needs_rf(qi_prev):\n",
    "            return [([2], 1)]\n",
    "    if qi == 3:\n",
    "        if has_lf(qi_foll):\n",
    "            return [([3], 1)]\n",
    "        else:\n",
    "            return [([5], 1)]\n",
    "    if qi == 4:\n",
    "        if has_lf(qi_foll):\n",
    "            return [([6], 1)]\n",
    "        else:\n",
    "            return [([8], 1)]\n",
    "    if qi == 5:\n",
    "        if has_rf(qi_prev):\n",
    "            return [([7], 1)]\n",
    "        else:\n",
    "            return [([8], 1)]\n",
    "    if qi in (6,7):\n",
    "        return [([1], 1)]\n",
    "    \n",
    "    if qi == 8:\n",
    "        return [([9], 1)]\n",
    "\n",
    "    if qi == 9:\n",
    "        return [([9], e), ([0], 1-e)]"
   ]
  },
  {
   "cell_type": "code",
   "execution_count": 71,
   "metadata": {},
   "outputs": [
    {
     "data": {
      "text/plain": [
       "[([2], 0.5), ([3], 0.5)]"
      ]
     },
     "execution_count": 71,
     "metadata": {},
     "output_type": "execute_result"
    }
   ],
   "source": [
    "compute_successor(1, 2, 3, 0.05, 0.75)"
   ]
  },
  {
   "cell_type": "code",
   "execution_count": 79,
   "metadata": {},
   "outputs": [
    {
     "name": "stdout",
     "output_type": "stream",
     "text": [
      "Perform some simple tests:\n",
      "\n",
      "empty list\n",
      "[([3], 0.1), ([4], 0.2)]\n",
      "\n",
      "2 elements single-state list\n",
      "[([0, 3], 0.020000000000000004),\n",
      " ([1, 3], 0.03),\n",
      " ([0, 4], 0.04000000000000001),\n",
      " ([1, 4], 0.06)]\n",
      "\n",
      "2 elements double-state list\n",
      "[([0, 0, 3], 0.020000000000000004),\n",
      " ([0, 1, 3], 0.03),\n",
      " ([0, 0, 4], 0.04000000000000001),\n",
      " ([0, 1, 4], 0.06)]\n"
     ]
    }
   ],
   "source": [
    "def cartesian_prod(list_to_be_extended, list_to_add):\n",
    "    \"\"\"This function computes the cartesian product between two lists made like:\n",
    "    \n",
    "    list_to_be_extended = [([a, b], 0.13), ([a, c], 0.24), ([b, c], 0.45)]\n",
    "    list_to_add = [([x], 0.12), ([y], 0.35)]\n",
    "    \n",
    "    where {a, b, c, x, y} are possible states, coming from the graph previously\n",
    "    presented, and the associated number in the pair is the probability of the\n",
    "    philosopher to follow/act according to those states.\n",
    "    \n",
    "    Please note that `list_to_be_extended` could be an empty list at the beginning\n",
    "    of the iteration process and, in that case, the `list_to_add` list has to be\n",
    "    returned.\n",
    "    \"\"\"\n",
    "    \n",
    "    if not list_to_be_extended:\n",
    "        return list_to_add\n",
    "    \n",
    "    list_with_products_to_return = []\n",
    "    \n",
    "    for single_state_to_add, prob_single_state in list_to_add:\n",
    "        for list_of_states, prob_sequence_states in list_to_be_extended:\n",
    "            list_with_products_to_return.append((list_of_states + single_state_to_add,\n",
    "                                                prob_single_state * prob_sequence_states))\n",
    "\n",
    "    return list_with_products_to_return\n",
    "\n",
    "    \n",
    "print(\"Perform some simple tests:\\n\")\n",
    "\n",
    "test_empty_list = []\n",
    "test_to_add_list = [([3], 0.1), ([4], 0.2)]\n",
    "print(\"empty list\")\n",
    "pprint(cartesian_prod(test_empty_list, test_to_add_list))\n",
    "\n",
    "test_midlen_list = [([0], 0.2), ([1], 0.3)]\n",
    "print(\"\\n2 elements single-state list\")\n",
    "pprint(cartesian_prod(test_midlen_list, test_to_add_list))\n",
    "\n",
    "test_long_list = [([0, 0], 0.2), ([0, 1], 0.3)]\n",
    "print(\"\\n2 elements double-state list\")\n",
    "pprint(cartesian_prod(test_long_list, test_to_add_list))"
   ]
  },
  {
   "cell_type": "code",
   "execution_count": 80,
   "metadata": {
    "scrolled": false
   },
   "outputs": [
    {
     "name": "stdout",
     "output_type": "stream",
     "text": [
      "[([2], 0.5),\n",
      " ([3], 0.5),\n",
      " ([2, 4], 0.5),\n",
      " ([3, 4], 0.5),\n",
      " ([2, 5], 0.5),\n",
      " ([3, 5], 0.5),\n",
      " ([2, 4, 5], 0.5),\n",
      " ([3, 4, 5], 0.5)]\n"
     ]
    }
   ],
   "source": [
    "input_state = (1, 2, 3)\n",
    "\n",
    "state_list = []\n",
    "for ind, _ in enumerate(input_state):\n",
    "    successor_state = compute_successor(input_state[ind], input_state[ind-1], input_state[(ind+1)%len(input_state)], h, e)\n",
    "    l = cartesian_prod(state_list, successor_state)\n",
    "    state_list.extend(l)\n",
    "\n",
    "pprint(state_list)"
   ]
  }
 ],
 "metadata": {
  "kernelspec": {
   "display_name": "Python 3",
   "language": "python",
   "name": "python3"
  },
  "language_info": {
   "codemirror_mode": {
    "name": "ipython",
    "version": 3
   },
   "file_extension": ".py",
   "mimetype": "text/x-python",
   "name": "python",
   "nbconvert_exporter": "python",
   "pygments_lexer": "ipython3",
   "version": "3.6.2"
  }
 },
 "nbformat": 4,
 "nbformat_minor": 2
}
